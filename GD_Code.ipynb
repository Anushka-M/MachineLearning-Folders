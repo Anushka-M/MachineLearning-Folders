{
 "cells": [
  {
   "cell_type": "code",
   "execution_count": 6,
   "metadata": {
    "collapsed": true
   },
   "outputs": [],
   "source": [
    "import numpy as np\n"
   ]
  },
  {
   "cell_type": "code",
   "execution_count": 5,
   "metadata": {
    "collapsed": true
   },
   "outputs": [],
   "source": []
  },
  {
   "cell_type": "code",
   "execution_count": 6,
   "metadata": {
    "collapsed": true
   },
   "outputs": [],
   "source": []
  },
  {
   "cell_type": "code",
   "execution_count": 5,
   "metadata": {
    "collapsed": true
   },
   "outputs": [],
   "source": []
  },
  {
   "cell_type": "code",
   "execution_count": 10,
   "metadata": {},
   "outputs": [
    {
     "name": "stdout",
     "output_type": "stream",
     "text": [
      "Cost Assoc:  2510.37954961\n",
      "Cost Assoc:  1444.12388697\n",
      "Cost Assoc:  1026.5384451\n",
      "Cost Assoc:  846.577099834\n",
      "Cost Assoc:  763.729948449\n",
      "Cost Assoc:  724.040614392\n",
      "Cost Assoc:  704.601875566\n",
      "Cost Assoc:  694.969376777\n",
      "Cost Assoc:  690.16732685\n",
      "Cost Assoc:  687.766033003\n",
      "Cost Assoc:  686.563391372\n",
      "Cost Assoc:  685.960602032\n",
      "Cost Assoc:  685.658352998\n",
      "Cost Assoc:  685.506770314\n",
      "Cost Assoc:  685.430741716\n",
      "Cost Assoc:  685.392606551\n",
      "Cost Assoc:  685.373477891\n",
      "Cost Assoc:  685.363882828\n",
      "Cost Assoc:  685.359069871\n",
      "Cost Assoc:  685.356655671\n",
      "Cost Assoc:  685.355444717\n",
      "Cost Assoc:  685.354837329\n",
      "Cost Assoc:  685.354532699\n",
      "Cost Assoc:  685.354379936\n",
      "Cost Assoc:  685.354303352\n",
      "Cost Assoc:  685.354264981\n",
      "Cost Assoc:  685.354245778\n",
      "Cost Assoc:  685.35423619\n",
      "Cost Assoc:  685.354231424\n",
      "Cost Assoc:  685.354229079\n",
      "0.999613928531   0.0196426572239\n"
     ]
    }
   ],
   "source": [
    "def step_derivation(data,lr,m,c):\n",
    "    m_slope,c_slope=0,0\n",
    "    N = len(data)\n",
    "    for i in range(N):\n",
    "        x = data[i,0]\n",
    "        y = data[i,0]\n",
    "        m_slope += (-2/N) *(y- (m*x) -c) *x\n",
    "        c_slope += (-2/N) *(y - (m*x) -c)\n",
    "    new_m = m - (lr*m_slope)\n",
    "    new_c = c - (lr*c_slope)\n",
    "    return new_m,new_c\n",
    "\n",
    "def cost(data,m,c):\n",
    "    cost=0\n",
    "    for i in range(len(data)):\n",
    "        x = data[i,0]\n",
    "        y = data[i,1]\n",
    "        cost+= (1/len(data))*(y- (m*x) -c)**2\n",
    "    return cost\n",
    "\n",
    "def gd(data,lr,it):\n",
    "    #start random value of m&c\n",
    "    m,c=0,0\n",
    "    for i in range(it):\n",
    "        m,c = step_derivation(data,lr,m,c)\n",
    "        print(\"Cost Assoc: \",cost(data,m,c))\n",
    "    return m,c\n",
    "    \n",
    "\n",
    "def run():\n",
    "    data = np.loadtxt(\"data.csv\",delimiter=\",\")\n",
    "    alpha = 0.0001\n",
    "    iterat = 30\n",
    "    m,c = gd(data,alpha,iterat)\n",
    "    print(m,\" \",c)\n",
    "    \n",
    "run()"
   ]
  }
 ],
 "metadata": {
  "kernelspec": {
   "display_name": "Python 3",
   "language": "python",
   "name": "python3"
  },
  "language_info": {
   "codemirror_mode": {
    "name": "ipython",
    "version": 3
   },
   "file_extension": ".py",
   "mimetype": "text/x-python",
   "name": "python",
   "nbconvert_exporter": "python",
   "pygments_lexer": "ipython3",
   "version": "3.6.1"
  }
 },
 "nbformat": 4,
 "nbformat_minor": 2
}
