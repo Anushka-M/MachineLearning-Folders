{
 "cells": [
  {
   "cell_type": "code",
   "execution_count": 2,
   "metadata": {
    "collapsed": true
   },
   "outputs": [],
   "source": [
    "import numpy as np\n"
   ]
  },
  {
   "cell_type": "code",
   "execution_count": 5,
   "metadata": {},
   "outputs": [
    {
     "data": {
      "text/plain": [
       "array([[  0.00000000e+00,   1.00000000e+04],\n",
       "       [  1.10000000e+00,   3.93430000e+04],\n",
       "       [  1.30000000e+00,   4.62050000e+04],\n",
       "       [  1.50000000e+00,   3.77310000e+04],\n",
       "       [  2.00000000e+00,   4.35250000e+04],\n",
       "       [  2.20000000e+00,   3.98910000e+04],\n",
       "       [  2.90000000e+00,   5.66420000e+04],\n",
       "       [  3.00000000e+00,   6.01500000e+04],\n",
       "       [  3.20000000e+00,   5.44450000e+04],\n",
       "       [  3.20000000e+00,   6.44450000e+04],\n",
       "       [  3.70000000e+00,   5.71890000e+04],\n",
       "       [  3.90000000e+00,   6.32180000e+04],\n",
       "       [  4.00000000e+00,   5.57940000e+04],\n",
       "       [  4.00000000e+00,   5.69570000e+04],\n",
       "       [  4.10000000e+00,   5.70810000e+04],\n",
       "       [  4.50000000e+00,   6.11110000e+04],\n",
       "       [  4.90000000e+00,   6.79380000e+04],\n",
       "       [  5.10000000e+00,   6.60290000e+04],\n",
       "       [  5.30000000e+00,   8.30880000e+04],\n",
       "       [  5.90000000e+00,   8.13630000e+04],\n",
       "       [  6.00000000e+00,   9.39400000e+04],\n",
       "       [  6.80000000e+00,   9.17380000e+04],\n",
       "       [  7.10000000e+00,   9.82730000e+04],\n",
       "       [  7.90000000e+00,   1.01302000e+05],\n",
       "       [  8.20000000e+00,   1.13812000e+05],\n",
       "       [  8.70000000e+00,   1.09431000e+05],\n",
       "       [  9.00000000e+00,   1.05582000e+05],\n",
       "       [  9.50000000e+00,   1.16969000e+05],\n",
       "       [  9.60000000e+00,   1.12635000e+05],\n",
       "       [  1.03000000e+01,   1.22391000e+05],\n",
       "       [  1.05000000e+01,   1.21872000e+05]])"
      ]
     },
     "execution_count": 5,
     "metadata": {},
     "output_type": "execute_result"
    }
   ],
   "source": [
    "data = np.loadtxt(\"Salary_DataR.csv\",delimiter=\",\")\n",
    "data"
   ]
  },
  {
   "cell_type": "code",
   "execution_count": 12,
   "metadata": {
    "collapsed": true
   },
   "outputs": [],
   "source": [
    "x = data[:,0].reshape(-1,1)\n",
    "y = data[:,1]"
   ]
  },
  {
   "cell_type": "code",
   "execution_count": 28,
   "metadata": {},
   "outputs": [
    {
     "data": {
      "text/plain": [
       "array([  37731.,  116969.,   10000.,   67938.,   83088.,  112635.,\n",
       "         63218.,  101302.,   81363.,   39891.,   54445.,   60150.,\n",
       "         61111.,   55794.,   91738.,   39343.,  122391.,   43525.,\n",
       "         57189.,   56642.,  109431.,  121872.,   64445.])"
      ]
     },
     "execution_count": 28,
     "metadata": {},
     "output_type": "execute_result"
    }
   ],
   "source": [
    "from sklearn import model_selection as ml\n",
    "x_train,x_test,y_train,y_test = ml.train_test_split(x,y)\n",
    "y_train"
   ]
  },
  {
   "cell_type": "code",
   "execution_count": 15,
   "metadata": {},
   "outputs": [
    {
     "data": {
      "text/plain": [
       "LinearRegression(copy_X=True, fit_intercept=True, n_jobs=1, normalize=False)"
      ]
     },
     "execution_count": 15,
     "metadata": {},
     "output_type": "execute_result"
    }
   ],
   "source": [
    "from sklearn.linear_model import LinearRegression\n",
    "alg1 = LinearRegression()\n",
    "alg1.fit(x_train,y_train)"
   ]
  },
  {
   "cell_type": "code",
   "execution_count": 18,
   "metadata": {},
   "outputs": [
    {
     "data": {
      "text/plain": [
       "array([ 9864.3290933])"
      ]
     },
     "execution_count": 18,
     "metadata": {},
     "output_type": "execute_result"
    }
   ],
   "source": [
    "alg1.coef_"
   ]
  },
  {
   "cell_type": "code",
   "execution_count": 21,
   "metadata": {},
   "outputs": [
    {
     "data": {
      "text/plain": [
       "24018.941980703486"
      ]
     },
     "execution_count": 21,
     "metadata": {},
     "output_type": "execute_result"
    }
   ],
   "source": [
    "alg1.intercept_"
   ]
  },
  {
   "cell_type": "code",
   "execution_count": 30,
   "metadata": {},
   "outputs": [
    {
     "data": {
      "text/plain": [
       "array([  63476.25835388,   74327.02035651,   94055.6785431 ,\n",
       "        112797.90382036,   36842.56980199,  104906.44054572,\n",
       "         64462.69126321,   83204.91654048])"
      ]
     },
     "execution_count": 30,
     "metadata": {},
     "output_type": "execute_result"
    }
   ],
   "source": [
    "y_pred = alg1.predict(x_test)\n",
    "y_pred"
   ]
  },
  {
   "cell_type": "code",
   "execution_count": 38,
   "metadata": {},
   "outputs": [
    {
     "data": {
      "image/png": "[encoded data removed]",
      "text/plain": [
       "<matplotlib.figure.Figure at 0x141bb2933c8>"
      ]
     },
     "metadata": {},
     "output_type": "display_data"
    }
   ],
   "source": [
    "import matplotlib.pyplot as plt\n",
    "m = alg1.coef_[0]\n",
    "c = alg1.intercept_\n",
    "x_line = np.arange(0,15,0.1)\n",
    "y_line = m*x_line + c\n",
    "plt.plot(x_line,y_line)\n",
    "x_train = x_train.reshape(23)\n",
    "plt.scatter(x_test,y_test)\n",
    "plt.show()"
   ]
  }
 ],
 "metadata": {
  "kernelspec": {
   "display_name": "Python 3",
   "language": "python",
   "name": "python3"
  },
  "language_info": {
   "codemirror_mode": {
    "name": "ipython",
    "version": 3
   },
   "file_extension": ".py",
   "mimetype": "text/x-python",
   "name": "python",
   "nbconvert_exporter": "python",
   "pygments_lexer": "ipython3",
   "version": "3.6.1"
  }
 },
 "nbformat": 4,
 "nbformat_minor": 2
}
